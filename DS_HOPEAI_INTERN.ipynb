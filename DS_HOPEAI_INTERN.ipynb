{
  "nbformat": 4,
  "nbformat_minor": 0,
  "metadata": {
    "colab": {
      "name": "DS-HOPEAI-INTERN.ipynb",
      "provenance": []
    },
    "kernelspec": {
      "name": "python3",
      "display_name": "Python 3"
    },
    "language_info": {
      "name": "python"
    }
  },
  "cells": [
    {
      "cell_type": "code",
      "execution_count": 28,
      "metadata": {
        "colab": {
          "base_uri": "https://localhost:8080/",
          "height": 206
        },
        "id": "XmMpgd0HoauS",
        "outputId": "c9d46370-efd4-4913-b1a6-176c3f5f85bf"
      },
      "outputs": [
        {
          "output_type": "execute_result",
          "data": {
            "text/plain": [
              "         Date               Customer Name Marketing Staff Grade Of Concrete  \\\n",
              "0  01-02-2022  CASA GRANDE COIMBATORE LLP             A01              M-25   \n",
              "1  01-02-2022           S.S. CONSTRUCTION             M01              M-10   \n",
              "2  01-02-2022  SREE DAKSHA INFRASTRUCTURE             A01              M-20   \n",
              "3  01-02-2022     SREE DAKSHA INNOVATIONS             A01              M-10   \n",
              "4  01-02-2022  AARNAA PROPERTY DEVELOPERS             A01              M-20   \n",
              "\n",
              "    QTY  PRICE PER CUM  \n",
              "0   7.5         5100.0  \n",
              "1   6.0         3100.0  \n",
              "2  14.0         4300.0  \n",
              "3  78.0         3250.0  \n",
              "4   8.0         4300.0  "
            ],
            "text/html": [
              "\n",
              "  <div id=\"df-e6807532-6f5d-40de-8b44-207a028d91d6\">\n",
              "    <div class=\"colab-df-container\">\n",
              "      <div>\n",
              "<style scoped>\n",
              "    .dataframe tbody tr th:only-of-type {\n",
              "        vertical-align: middle;\n",
              "    }\n",
              "\n",
              "    .dataframe tbody tr th {\n",
              "        vertical-align: top;\n",
              "    }\n",
              "\n",
              "    .dataframe thead th {\n",
              "        text-align: right;\n",
              "    }\n",
              "</style>\n",
              "<table border=\"1\" class=\"dataframe\">\n",
              "  <thead>\n",
              "    <tr style=\"text-align: right;\">\n",
              "      <th></th>\n",
              "      <th>Date</th>\n",
              "      <th>Customer Name</th>\n",
              "      <th>Marketing Staff</th>\n",
              "      <th>Grade Of Concrete</th>\n",
              "      <th>QTY</th>\n",
              "      <th>PRICE PER CUM</th>\n",
              "    </tr>\n",
              "  </thead>\n",
              "  <tbody>\n",
              "    <tr>\n",
              "      <th>0</th>\n",
              "      <td>01-02-2022</td>\n",
              "      <td>CASA GRANDE COIMBATORE LLP</td>\n",
              "      <td>A01</td>\n",
              "      <td>M-25</td>\n",
              "      <td>7.5</td>\n",
              "      <td>5100.0</td>\n",
              "    </tr>\n",
              "    <tr>\n",
              "      <th>1</th>\n",
              "      <td>01-02-2022</td>\n",
              "      <td>S.S. CONSTRUCTION</td>\n",
              "      <td>M01</td>\n",
              "      <td>M-10</td>\n",
              "      <td>6.0</td>\n",
              "      <td>3100.0</td>\n",
              "    </tr>\n",
              "    <tr>\n",
              "      <th>2</th>\n",
              "      <td>01-02-2022</td>\n",
              "      <td>SREE DAKSHA INFRASTRUCTURE</td>\n",
              "      <td>A01</td>\n",
              "      <td>M-20</td>\n",
              "      <td>14.0</td>\n",
              "      <td>4300.0</td>\n",
              "    </tr>\n",
              "    <tr>\n",
              "      <th>3</th>\n",
              "      <td>01-02-2022</td>\n",
              "      <td>SREE DAKSHA INNOVATIONS</td>\n",
              "      <td>A01</td>\n",
              "      <td>M-10</td>\n",
              "      <td>78.0</td>\n",
              "      <td>3250.0</td>\n",
              "    </tr>\n",
              "    <tr>\n",
              "      <th>4</th>\n",
              "      <td>01-02-2022</td>\n",
              "      <td>AARNAA PROPERTY DEVELOPERS</td>\n",
              "      <td>A01</td>\n",
              "      <td>M-20</td>\n",
              "      <td>8.0</td>\n",
              "      <td>4300.0</td>\n",
              "    </tr>\n",
              "  </tbody>\n",
              "</table>\n",
              "</div>\n",
              "      <button class=\"colab-df-convert\" onclick=\"convertToInteractive('df-e6807532-6f5d-40de-8b44-207a028d91d6')\"\n",
              "              title=\"Convert this dataframe to an interactive table.\"\n",
              "              style=\"display:none;\">\n",
              "        \n",
              "  <svg xmlns=\"http://www.w3.org/2000/svg\" height=\"24px\"viewBox=\"0 0 24 24\"\n",
              "       width=\"24px\">\n",
              "    <path d=\"M0 0h24v24H0V0z\" fill=\"none\"/>\n",
              "    <path d=\"M18.56 5.44l.94 2.06.94-2.06 2.06-.94-2.06-.94-.94-2.06-.94 2.06-2.06.94zm-11 1L8.5 8.5l.94-2.06 2.06-.94-2.06-.94L8.5 2.5l-.94 2.06-2.06.94zm10 10l.94 2.06.94-2.06 2.06-.94-2.06-.94-.94-2.06-.94 2.06-2.06.94z\"/><path d=\"M17.41 7.96l-1.37-1.37c-.4-.4-.92-.59-1.43-.59-.52 0-1.04.2-1.43.59L10.3 9.45l-7.72 7.72c-.78.78-.78 2.05 0 2.83L4 21.41c.39.39.9.59 1.41.59.51 0 1.02-.2 1.41-.59l7.78-7.78 2.81-2.81c.8-.78.8-2.07 0-2.86zM5.41 20L4 18.59l7.72-7.72 1.47 1.35L5.41 20z\"/>\n",
              "  </svg>\n",
              "      </button>\n",
              "      \n",
              "  <style>\n",
              "    .colab-df-container {\n",
              "      display:flex;\n",
              "      flex-wrap:wrap;\n",
              "      gap: 12px;\n",
              "    }\n",
              "\n",
              "    .colab-df-convert {\n",
              "      background-color: #E8F0FE;\n",
              "      border: none;\n",
              "      border-radius: 50%;\n",
              "      cursor: pointer;\n",
              "      display: none;\n",
              "      fill: #1967D2;\n",
              "      height: 32px;\n",
              "      padding: 0 0 0 0;\n",
              "      width: 32px;\n",
              "    }\n",
              "\n",
              "    .colab-df-convert:hover {\n",
              "      background-color: #E2EBFA;\n",
              "      box-shadow: 0px 1px 2px rgba(60, 64, 67, 0.3), 0px 1px 3px 1px rgba(60, 64, 67, 0.15);\n",
              "      fill: #174EA6;\n",
              "    }\n",
              "\n",
              "    [theme=dark] .colab-df-convert {\n",
              "      background-color: #3B4455;\n",
              "      fill: #D2E3FC;\n",
              "    }\n",
              "\n",
              "    [theme=dark] .colab-df-convert:hover {\n",
              "      background-color: #434B5C;\n",
              "      box-shadow: 0px 1px 3px 1px rgba(0, 0, 0, 0.15);\n",
              "      filter: drop-shadow(0px 1px 2px rgba(0, 0, 0, 0.3));\n",
              "      fill: #FFFFFF;\n",
              "    }\n",
              "  </style>\n",
              "\n",
              "      <script>\n",
              "        const buttonEl =\n",
              "          document.querySelector('#df-e6807532-6f5d-40de-8b44-207a028d91d6 button.colab-df-convert');\n",
              "        buttonEl.style.display =\n",
              "          google.colab.kernel.accessAllowed ? 'block' : 'none';\n",
              "\n",
              "        async function convertToInteractive(key) {\n",
              "          const element = document.querySelector('#df-e6807532-6f5d-40de-8b44-207a028d91d6');\n",
              "          const dataTable =\n",
              "            await google.colab.kernel.invokeFunction('convertToInteractive',\n",
              "                                                     [key], {});\n",
              "          if (!dataTable) return;\n",
              "\n",
              "          const docLinkHtml = 'Like what you see? Visit the ' +\n",
              "            '<a target=\"_blank\" href=https://colab.research.google.com/notebooks/data_table.ipynb>data table notebook</a>'\n",
              "            + ' to learn more about interactive tables.';\n",
              "          element.innerHTML = '';\n",
              "          dataTable['output_type'] = 'display_data';\n",
              "          await google.colab.output.renderOutput(dataTable, element);\n",
              "          const docLink = document.createElement('div');\n",
              "          docLink.innerHTML = docLinkHtml;\n",
              "          element.appendChild(docLink);\n",
              "        }\n",
              "      </script>\n",
              "    </div>\n",
              "  </div>\n",
              "  "
            ]
          },
          "metadata": {},
          "execution_count": 28
        }
      ],
      "source": [
        "import pandas as pd\n",
        "import matplotlib.pyplot as plt\n",
        "import collections as co\n",
        "df=pd.read_csv(\"RMC.csv\") \n",
        "df.head()"
      ]
    },
    {
      "cell_type": "markdown",
      "source": [
        "CUSTOMER ORDER COUNT"
      ],
      "metadata": {
        "id": "5Z2YU1_epGOU"
      }
    },
    {
      "cell_type": "code",
      "source": [
        "df['Customer Name'].value_counts().plot(kind='bar',figsize=(20,10)) "
      ],
      "metadata": {
        "colab": {
          "base_uri": "https://localhost:8080/",
          "height": 887
        },
        "id": "fDckkXNfggEr",
        "outputId": "f4f31e54-edac-4d67-dc97-60e46004e245"
      },
      "execution_count": 4,
      "outputs": [
        {
          "output_type": "execute_result",
          "data": {
            "text/plain": [
              "<matplotlib.axes._subplots.AxesSubplot at 0x7f3ed7b69a10>"
            ]
          },
          "metadata": {},
          "execution_count": 4
        },
        {
          "output_type": "display_data",
          "data": {
            "text/plain": [
              "<Figure size 1440x720 with 1 Axes>"
            ],
            "image/png": "[encoded data removed]"
          },
          "metadata": {
            "needs_background": "light"
          }
        }
      ]
    },
    {
      "cell_type": "code",
      "source": [
        "d=[]\n",
        "for i in range(len(df)):\n",
        "  d.append(df['Customer Name'][i])\n",
        "x=co.Counter(d)\n",
        "x"
      ],
      "metadata": {
        "colab": {
          "base_uri": "https://localhost:8080/"
        },
        "id": "pzoYmgJipJFQ",
        "outputId": "9c546880-9b65-477a-da1d-74132f83a38c"
      },
      "execution_count": 3,
      "outputs": [
        {
          "output_type": "execute_result",
          "data": {
            "text/plain": [
              "Counter({'A.V.PROPERTIES(INDIA)  PRIVATE LIMITED': 2,\n",
              "         'AADHI HOSPITAL': 3,\n",
              "         'AARNAA PROPERTY DEVELOPERS': 9,\n",
              "         'ALLIANCE MALL DEVELOPERS CO PRIVATE LIMITED': 11,\n",
              "         'ANARGHYA DEVELOPERS': 2,\n",
              "         'ANTONY': 1,\n",
              "         'ASHOK': 4,\n",
              "         'BALAKUMARAN': 1,\n",
              "         'CASA GRANDE COIMBATORE LLP': 11,\n",
              "         'CRIZY CONSULTANTS AND BUILDERS': 1,\n",
              "         'DIAMOND CITY DEVELOPERS INDIA PRIVATE LIMITED': 7,\n",
              "         'G RAMAMOORTHI CONSTRUCTIONS INDIA   PVT LTD': 11,\n",
              "         'GLOBUSE REALTORS PRIVATE LIMITED': 1,\n",
              "         'INDIA BUILDERS (CHENNAI) LIMITED': 2,\n",
              "         'JAY PROMOTERS': 1,\n",
              "         'JOHN SINGH': 1,\n",
              "         'K.CHINNU & COMPANY CONSTRUCTIONS PRIVATE LIMITED': 2,\n",
              "         'K.VIJAYAKUMAR': 1,\n",
              "         'KRISHNA DASS': 1,\n",
              "         'KUMARAN BUILDER': 1,\n",
              "         'LEMNISCATE ASSOCIATE': 2,\n",
              "         'M S SANBRIX PROPERTIES PRIVATE LIMITED': 2,\n",
              "         'M/S. SENTHIL KUMAR': 1,\n",
              "         'MESIYA': 1,\n",
              "         'MR. BATSHA': 2,\n",
              "         'MR. MANIKANDAN': 1,\n",
              "         'MR. MANOJ': 1,\n",
              "         'MR. PRAKASH': 2,\n",
              "         'MR. RANJITH ': 5,\n",
              "         'MR. SENTHIL KUMAR': 2,\n",
              "         'MR. VIJAYA KUMAR': 1,\n",
              "         'MURUGAN': 1,\n",
              "         'NAGARAJ': 1,\n",
              "         'NALLANDHIRAN': 1,\n",
              "         'PUSHPA RAJ': 1,\n",
              "         'RAJADURAI CONSTRUCTIONS (P) LTD': 3,\n",
              "         'RAJAM ENGINEERING CONTRACTOR.': 5,\n",
              "         'RC & CO': 1,\n",
              "         'S.S. CONSTRUCTION': 5,\n",
              "         'SAROJ': 1,\n",
              "         'SHANMUGAM': 1,\n",
              "         'SHREE MEGHAVARNA CONSTRUCTIONS': 9,\n",
              "         'SREE DAKSHA INFRASTRUCTURE': 7,\n",
              "         'SREE DAKSHA INNOVATIONS': 11,\n",
              "         'SREE DAKSHA LAND SHAPERS': 30,\n",
              "         'SREE DAKSHA PROPERTY DEVELOPERS (INDIA) PRIVATE': 12,\n",
              "         'SREE HARI': 1,\n",
              "         'SRI GUJAN BUILDER': 1,\n",
              "         'SRI LAKSHMI BUILDERS': 1,\n",
              "         'SRI MURUGAN CONSTRUCTIONS': 1,\n",
              "         'SRI SARVESH PROMOTERS': 2,\n",
              "         'SURABI CONSTRUCTIONS': 2,\n",
              "         'SWETHA STRUCTURES PRIVATE LIMITED': 1,\n",
              "         'VAKAMAN DEVELOPERS': 4,\n",
              "         'VAKAMAN KOTA ENTERPRISES': 4,\n",
              "         'VR CONSTRUCTIONS': 1,\n",
              "         nan: 88})"
            ]
          },
          "metadata": {},
          "execution_count": 3
        }
      ]
    },
    {
      "cell_type": "markdown",
      "source": [
        "MARKETING STAFF SALES COUNT"
      ],
      "metadata": {
        "id": "mb9P0PtmqALX"
      }
    },
    {
      "cell_type": "code",
      "source": [
        "df['Marketing Staff'].value_counts().plot(kind='bar',figsize=(10,5))"
      ],
      "metadata": {
        "colab": {
          "base_uri": "https://localhost:8080/",
          "height": 355
        },
        "id": "z8i9mu10qHMd",
        "outputId": "ad63ed73-d889-4760-d7ba-d48f5538f09f"
      },
      "execution_count": 5,
      "outputs": [
        {
          "output_type": "execute_result",
          "data": {
            "text/plain": [
              "<matplotlib.axes._subplots.AxesSubplot at 0x7f3ed1f63650>"
            ]
          },
          "metadata": {},
          "execution_count": 5
        },
        {
          "output_type": "display_data",
          "data": {
            "text/plain": [
              "<Figure size 720x360 with 1 Axes>"
            ],
            "image/png": "[encoded data removed]"
          },
          "metadata": {
            "needs_background": "light"
          }
        }
      ]
    },
    {
      "cell_type": "code",
      "source": [
        "d=[]\n",
        "for i in range(len(df)):\n",
        "  d.append(df['Marketing Staff'][i])\n",
        "x1=co.Counter(d)\n",
        "x1"
      ],
      "metadata": {
        "colab": {
          "base_uri": "https://localhost:8080/"
        },
        "id": "1nfaZs9QqPRI",
        "outputId": "fae9787d-5773-4311-a9e7-992c9753ad80"
      },
      "execution_count": 6,
      "outputs": [
        {
          "output_type": "execute_result",
          "data": {
            "text/plain": [
              "Counter({'A01': 140,\n",
              "         'HR01': 11,\n",
              "         'J01': 1,\n",
              "         'M01': 20,\n",
              "         'MV01': 1,\n",
              "         'R01': 27,\n",
              "         nan: 88})"
            ]
          },
          "metadata": {},
          "execution_count": 6
        }
      ]
    },
    {
      "cell_type": "markdown",
      "source": [
        "GRADE OF CONCRETE SALES COUNT"
      ],
      "metadata": {
        "id": "_-7rz_-qqW7X"
      }
    },
    {
      "cell_type": "code",
      "source": [
        "df['Grade Of Concrete'].value_counts().plot(kind='pie',figsize=(10,5))"
      ],
      "metadata": {
        "colab": {
          "base_uri": "https://localhost:8080/",
          "height": 320
        },
        "id": "-9ZRiOmCqcfT",
        "outputId": "6a292605-5a18-4e24-aa03-937a45381759"
      },
      "execution_count": 7,
      "outputs": [
        {
          "output_type": "execute_result",
          "data": {
            "text/plain": [
              "<matplotlib.axes._subplots.AxesSubplot at 0x7f3ed017c090>"
            ]
          },
          "metadata": {},
          "execution_count": 7
        },
        {
          "output_type": "display_data",
          "data": {
            "text/plain": [
              "<Figure size 720x360 with 1 Axes>"
            ],
            "image/png": "[encoded data removed]"
          },
          "metadata": {}
        }
      ]
    },
    {
      "cell_type": "code",
      "source": [
        "d=[]\n",
        "for i in range(len(df)):\n",
        "  if(df['Grade Of Concrete'][i] not in d):\n",
        "    d.append(df['Grade Of Concrete'][i])\n",
        "print(*d)"
      ],
      "metadata": {
        "colab": {
          "base_uri": "https://localhost:8080/"
        },
        "id": "SgTAvlfWqj25",
        "outputId": "51ec4bcd-75cf-4301-be34-96e468a01961"
      },
      "execution_count": 9,
      "outputs": [
        {
          "output_type": "stream",
          "name": "stdout",
          "text": [
            "M-25 M-10 M-20 M-7.5 M-30 M-40 M-15 M-35 nan\n"
          ]
        }
      ]
    },
    {
      "cell_type": "markdown",
      "source": [
        "PRINT QTY BASED ON GRADES"
      ],
      "metadata": {
        "id": "QbBdNLDhqtQa"
      }
    },
    {
      "cell_type": "code",
      "source": [
        "qty=[]\n",
        "for j in range(len(d)):\n",
        "  a=0\n",
        "  for i in range(len(df)):\n",
        "    if(d[j]==df['Grade Of Concrete'][i]):\n",
        "      a+=df['QTY'][i]\n",
        "  qty.append(a)\n",
        "print(*qty)"
      ],
      "metadata": {
        "colab": {
          "base_uri": "https://localhost:8080/"
        },
        "id": "drZlpGiDq6K3",
        "outputId": "956e34ea-e464-4165-be8c-9377c19a4b3b"
      },
      "execution_count": 11,
      "outputs": [
        {
          "output_type": "stream",
          "name": "stdout",
          "text": [
            "392.5 768.5 2095.5 59.5 455.5 82.5 184.0 43.0 0\n"
          ]
        }
      ]
    },
    {
      "cell_type": "code",
      "source": [
        "plt.plot(qty,d)"
      ],
      "metadata": {
        "colab": {
          "base_uri": "https://localhost:8080/",
          "height": 282
        },
        "id": "bKGvA60YrUTm",
        "outputId": "8e141d75-df58-465b-c07c-e4ce87cabbe4"
      },
      "execution_count": 23,
      "outputs": [
        {
          "output_type": "execute_result",
          "data": {
            "text/plain": [
              "[<matplotlib.lines.Line2D at 0x7f3ecd087ed0>]"
            ]
          },
          "metadata": {},
          "execution_count": 23
        },
        {
          "output_type": "display_data",
          "data": {
            "text/plain": [
              "<Figure size 432x288 with 1 Axes>"
            ],
            "image/png": "[encoded data removed]"
          },
          "metadata": {
            "needs_background": "light"
          }
        }
      ]
    },
    {
      "cell_type": "markdown",
      "source": [
        "MEAN "
      ],
      "metadata": {
        "id": "l9zk2o1JswwK"
      }
    },
    {
      "cell_type": "code",
      "source": [
        "meanqty=df['QTY'].mean()\n",
        "meanqty"
      ],
      "metadata": {
        "colab": {
          "base_uri": "https://localhost:8080/"
        },
        "id": "01yzn9DOs7QX",
        "outputId": "89e65a46-359d-49f1-b17c-e15fcfbf1443"
      },
      "execution_count": 24,
      "outputs": [
        {
          "output_type": "execute_result",
          "data": {
            "text/plain": [
              "20.405"
            ]
          },
          "metadata": {},
          "execution_count": 24
        }
      ]
    },
    {
      "cell_type": "markdown",
      "source": [
        "MEDIAN"
      ],
      "metadata": {
        "id": "D79Zjei8s--J"
      }
    },
    {
      "cell_type": "code",
      "source": [
        "medianqty=df['QTY'].median()\n",
        "medianqty"
      ],
      "metadata": {
        "colab": {
          "base_uri": "https://localhost:8080/"
        },
        "id": "ufzqpN6Axb8Y",
        "outputId": "4af85e5c-d669-435d-fbf9-b14cd4aa8cf2"
      },
      "execution_count": 25,
      "outputs": [
        {
          "output_type": "execute_result",
          "data": {
            "text/plain": [
              "8.0"
            ]
          },
          "metadata": {},
          "execution_count": 25
        }
      ]
    },
    {
      "cell_type": "markdown",
      "source": [
        "MODE"
      ],
      "metadata": {
        "id": "9yiZVq7QtHSi"
      }
    },
    {
      "cell_type": "code",
      "source": [
        "modeqty=df['QTY'].mode()\n",
        "modeqty"
      ],
      "metadata": {
        "colab": {
          "base_uri": "https://localhost:8080/"
        },
        "id": "HFv15ouNtIrG",
        "outputId": "c892fc1c-708f-4d05-fdbc-1764736c261b"
      },
      "execution_count": 26,
      "outputs": [
        {
          "output_type": "execute_result",
          "data": {
            "text/plain": [
              "0    4.0\n",
              "dtype: float64"
            ]
          },
          "metadata": {},
          "execution_count": 26
        }
      ]
    },
    {
      "cell_type": "code",
      "source": [
        "df[['Customer Name','Marketing Staff','QTY','Grade Of Concrete','PRICE PER CUM']].describe(include='all')"
      ],
      "metadata": {
        "colab": {
          "base_uri": "https://localhost:8080/",
          "height": 394
        },
        "id": "or9P-clEtMS-",
        "outputId": "5bdce70b-bbc3-4481-8475-aa8a079db0e2"
      },
      "execution_count": 27,
      "outputs": [
        {
          "output_type": "execute_result",
          "data": {
            "text/plain": [
              "                   Customer Name Marketing Staff         QTY  \\\n",
              "count                        200             200  200.000000   \n",
              "unique                        56               6         NaN   \n",
              "top     SREE DAKSHA LAND SHAPERS             A01         NaN   \n",
              "freq                          30             140         NaN   \n",
              "mean                         NaN             NaN   20.405000   \n",
              "std                          NaN             NaN   32.283854   \n",
              "min                          NaN             NaN    1.500000   \n",
              "25%                          NaN             NaN    5.000000   \n",
              "50%                          NaN             NaN    8.000000   \n",
              "75%                          NaN             NaN   18.625000   \n",
              "max                          NaN             NaN  227.000000   \n",
              "\n",
              "       Grade Of Concrete  PRICE PER CUM  \n",
              "count                200     201.000000  \n",
              "unique                 8            NaN  \n",
              "top                 M-20            NaN  \n",
              "freq                  86            NaN  \n",
              "mean                 NaN    3895.800995  \n",
              "std                  NaN     824.907068  \n",
              "min                  NaN      33.000000  \n",
              "25%                  NaN    3250.000000  \n",
              "50%                  NaN    4100.000000  \n",
              "75%                  NaN    4300.000000  \n",
              "max                  NaN    5705.000000  "
            ],
            "text/html": [
              "\n",
              "  <div id=\"df-b99b5237-dabb-4727-be95-6f1ed67ab429\">\n",
              "    <div class=\"colab-df-container\">\n",
              "      <div>\n",
              "<style scoped>\n",
              "    .dataframe tbody tr th:only-of-type {\n",
              "        vertical-align: middle;\n",
              "    }\n",
              "\n",
              "    .dataframe tbody tr th {\n",
              "        vertical-align: top;\n",
              "    }\n",
              "\n",
              "    .dataframe thead th {\n",
              "        text-align: right;\n",
              "    }\n",
              "</style>\n",
              "<table border=\"1\" class=\"dataframe\">\n",
              "  <thead>\n",
              "    <tr style=\"text-align: right;\">\n",
              "      <th></th>\n",
              "      <th>Customer Name</th>\n",
              "      <th>Marketing Staff</th>\n",
              "      <th>QTY</th>\n",
              "      <th>Grade Of Concrete</th>\n",
              "      <th>PRICE PER CUM</th>\n",
              "    </tr>\n",
              "  </thead>\n",
              "  <tbody>\n",
              "    <tr>\n",
              "      <th>count</th>\n",
              "      <td>200</td>\n",
              "      <td>200</td>\n",
              "      <td>200.000000</td>\n",
              "      <td>200</td>\n",
              "      <td>201.000000</td>\n",
              "    </tr>\n",
              "    <tr>\n",
              "      <th>unique</th>\n",
              "      <td>56</td>\n",
              "      <td>6</td>\n",
              "      <td>NaN</td>\n",
              "      <td>8</td>\n",
              "      <td>NaN</td>\n",
              "    </tr>\n",
              "    <tr>\n",
              "      <th>top</th>\n",
              "      <td>SREE DAKSHA LAND SHAPERS</td>\n",
              "      <td>A01</td>\n",
              "      <td>NaN</td>\n",
              "      <td>M-20</td>\n",
              "      <td>NaN</td>\n",
              "    </tr>\n",
              "    <tr>\n",
              "      <th>freq</th>\n",
              "      <td>30</td>\n",
              "      <td>140</td>\n",
              "      <td>NaN</td>\n",
              "      <td>86</td>\n",
              "      <td>NaN</td>\n",
              "    </tr>\n",
              "    <tr>\n",
              "      <th>mean</th>\n",
              "      <td>NaN</td>\n",
              "      <td>NaN</td>\n",
              "      <td>20.405000</td>\n",
              "      <td>NaN</td>\n",
              "      <td>3895.800995</td>\n",
              "    </tr>\n",
              "    <tr>\n",
              "      <th>std</th>\n",
              "      <td>NaN</td>\n",
              "      <td>NaN</td>\n",
              "      <td>32.283854</td>\n",
              "      <td>NaN</td>\n",
              "      <td>824.907068</td>\n",
              "    </tr>\n",
              "    <tr>\n",
              "      <th>min</th>\n",
              "      <td>NaN</td>\n",
              "      <td>NaN</td>\n",
              "      <td>1.500000</td>\n",
              "      <td>NaN</td>\n",
              "      <td>33.000000</td>\n",
              "    </tr>\n",
              "    <tr>\n",
              "      <th>25%</th>\n",
              "      <td>NaN</td>\n",
              "      <td>NaN</td>\n",
              "      <td>5.000000</td>\n",
              "      <td>NaN</td>\n",
              "      <td>3250.000000</td>\n",
              "    </tr>\n",
              "    <tr>\n",
              "      <th>50%</th>\n",
              "      <td>NaN</td>\n",
              "      <td>NaN</td>\n",
              "      <td>8.000000</td>\n",
              "      <td>NaN</td>\n",
              "      <td>4100.000000</td>\n",
              "    </tr>\n",
              "    <tr>\n",
              "      <th>75%</th>\n",
              "      <td>NaN</td>\n",
              "      <td>NaN</td>\n",
              "      <td>18.625000</td>\n",
              "      <td>NaN</td>\n",
              "      <td>4300.000000</td>\n",
              "    </tr>\n",
              "    <tr>\n",
              "      <th>max</th>\n",
              "      <td>NaN</td>\n",
              "      <td>NaN</td>\n",
              "      <td>227.000000</td>\n",
              "      <td>NaN</td>\n",
              "      <td>5705.000000</td>\n",
              "    </tr>\n",
              "  </tbody>\n",
              "</table>\n",
              "</div>\n",
              "      <button class=\"colab-df-convert\" onclick=\"convertToInteractive('df-b99b5237-dabb-4727-be95-6f1ed67ab429')\"\n",
              "              title=\"Convert this dataframe to an interactive table.\"\n",
              "              style=\"display:none;\">\n",
              "        \n",
              "  <svg xmlns=\"http://www.w3.org/2000/svg\" height=\"24px\"viewBox=\"0 0 24 24\"\n",
              "       width=\"24px\">\n",
              "    <path d=\"M0 0h24v24H0V0z\" fill=\"none\"/>\n",
              "    <path d=\"M18.56 5.44l.94 2.06.94-2.06 2.06-.94-2.06-.94-.94-2.06-.94 2.06-2.06.94zm-11 1L8.5 8.5l.94-2.06 2.06-.94-2.06-.94L8.5 2.5l-.94 2.06-2.06.94zm10 10l.94 2.06.94-2.06 2.06-.94-2.06-.94-.94-2.06-.94 2.06-2.06.94z\"/><path d=\"M17.41 7.96l-1.37-1.37c-.4-.4-.92-.59-1.43-.59-.52 0-1.04.2-1.43.59L10.3 9.45l-7.72 7.72c-.78.78-.78 2.05 0 2.83L4 21.41c.39.39.9.59 1.41.59.51 0 1.02-.2 1.41-.59l7.78-7.78 2.81-2.81c.8-.78.8-2.07 0-2.86zM5.41 20L4 18.59l7.72-7.72 1.47 1.35L5.41 20z\"/>\n",
              "  </svg>\n",
              "      </button>\n",
              "      \n",
              "  <style>\n",
              "    .colab-df-container {\n",
              "      display:flex;\n",
              "      flex-wrap:wrap;\n",
              "      gap: 12px;\n",
              "    }\n",
              "\n",
              "    .colab-df-convert {\n",
              "      background-color: #E8F0FE;\n",
              "      border: none;\n",
              "      border-radius: 50%;\n",
              "      cursor: pointer;\n",
              "      display: none;\n",
              "      fill: #1967D2;\n",
              "      height: 32px;\n",
              "      padding: 0 0 0 0;\n",
              "      width: 32px;\n",
              "    }\n",
              "\n",
              "    .colab-df-convert:hover {\n",
              "      background-color: #E2EBFA;\n",
              "      box-shadow: 0px 1px 2px rgba(60, 64, 67, 0.3), 0px 1px 3px 1px rgba(60, 64, 67, 0.15);\n",
              "      fill: #174EA6;\n",
              "    }\n",
              "\n",
              "    [theme=dark] .colab-df-convert {\n",
              "      background-color: #3B4455;\n",
              "      fill: #D2E3FC;\n",
              "    }\n",
              "\n",
              "    [theme=dark] .colab-df-convert:hover {\n",
              "      background-color: #434B5C;\n",
              "      box-shadow: 0px 1px 3px 1px rgba(0, 0, 0, 0.15);\n",
              "      filter: drop-shadow(0px 1px 2px rgba(0, 0, 0, 0.3));\n",
              "      fill: #FFFFFF;\n",
              "    }\n",
              "  </style>\n",
              "\n",
              "      <script>\n",
              "        const buttonEl =\n",
              "          document.querySelector('#df-b99b5237-dabb-4727-be95-6f1ed67ab429 button.colab-df-convert');\n",
              "        buttonEl.style.display =\n",
              "          google.colab.kernel.accessAllowed ? 'block' : 'none';\n",
              "\n",
              "        async function convertToInteractive(key) {\n",
              "          const element = document.querySelector('#df-b99b5237-dabb-4727-be95-6f1ed67ab429');\n",
              "          const dataTable =\n",
              "            await google.colab.kernel.invokeFunction('convertToInteractive',\n",
              "                                                     [key], {});\n",
              "          if (!dataTable) return;\n",
              "\n",
              "          const docLinkHtml = 'Like what you see? Visit the ' +\n",
              "            '<a target=\"_blank\" href=https://colab.research.google.com/notebooks/data_table.ipynb>data table notebook</a>'\n",
              "            + ' to learn more about interactive tables.';\n",
              "          element.innerHTML = '';\n",
              "          dataTable['output_type'] = 'display_data';\n",
              "          await google.colab.output.renderOutput(dataTable, element);\n",
              "          const docLink = document.createElement('div');\n",
              "          docLink.innerHTML = docLinkHtml;\n",
              "          element.appendChild(docLink);\n",
              "        }\n",
              "      </script>\n",
              "    </div>\n",
              "  </div>\n",
              "  "
            ]
          },
          "metadata": {},
          "execution_count": 27
        }
      ]
    }
  ]
}